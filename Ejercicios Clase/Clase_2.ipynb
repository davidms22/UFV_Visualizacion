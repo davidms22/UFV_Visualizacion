{
  "nbformat": 4,
  "nbformat_minor": 0,
  "metadata": {
    "colab": {
      "provenance": [],
      "authorship_tag": "ABX9TyPJs8qylWMEh21IFfbDdVd9",
      "include_colab_link": true
    },
    "kernelspec": {
      "name": "python3",
      "display_name": "Python 3"
    },
    "language_info": {
      "name": "python"
    }
  },
  "cells": [
    {
      "cell_type": "markdown",
      "metadata": {
        "id": "view-in-github",
        "colab_type": "text"
      },
      "source": [
        "<a href=\"https://colab.research.google.com/github/davidms22/UFV_Visualizacion/blob/main/Ejercicios%20Clase/Clase_2.ipynb\" target=\"_parent\"><img src=\"https://colab.research.google.com/assets/colab-badge.svg\" alt=\"Open In Colab\"/></a>"
      ]
    },
    {
      "cell_type": "markdown",
      "source": [
        "**EJERCICIO CLASE 18/10/2024**\n",
        "\n",
        "Para este ejercicio, vamos a trabajar con la base de datos *'datos_ejercicios_ventas.csv'*.\n",
        "\n",
        "En primer lugar, abrimos la base de datos con excel para poder observarla y entenderla. En este caso debemos aprovechar que es de un tamaño razonable para entenderla al completo.\n",
        "\n",
        "- **COUNTRY**: País donde se registran las ventas.\n",
        "- **SUBBRAND**: Submarca del producto involucrado en las ventas.\n",
        "- **YEAR**: Año del registro de ventas o predicciones.\n",
        "- **MONTH**: Mes correspondiente al registro.\n",
        "- **SCENARIO**: Indicador de observacion real o predicha con AI.\n",
        "- **FORECAST**: Código que identifica la predicción realizada (ej. \"AI_P02F\").\n",
        "- **FORECAST_YEAR**: Año asociado a la predicción.\n",
        "- **AMOUNT**: Valor numérico que representa el monto de ventas en unidades"
      ],
      "metadata": {
        "id": "qRhinR0j9Yhk"
      }
    },
    {
      "cell_type": "code",
      "source": [
        "# Cargamos base de datos y mostramos primera fila.\n",
        "import pandas as pd\n",
        "import matplotlib.pyplot as plt\n",
        "import seaborn as sns\n",
        "\n",
        "df = pd.read_csv('datos_ejercicio_ventas.csv')\n",
        "print(df.head())"
      ],
      "metadata": {
        "colab": {
          "base_uri": "https://localhost:8080/"
        },
        "id": "8y2M8Gz__yMY",
        "outputId": "1cd0cb84-ad2c-4e3e-eb1b-ecdbd51eb5f2"
      },
      "execution_count": 31,
      "outputs": [
        {
          "output_type": "stream",
          "name": "stdout",
          "text": [
            "         COUNTRY        SUBBRAND  YEAR  MONTH     SCENARIO FORECAST  \\\n",
            "0       Portugal     Lipton (L3)  2023     12  AI_forecast  AI_P02F   \n",
            "1  Great Britain     Lipton (L3)  2023     12  AI_forecast  AI_P10F   \n",
            "2          Spain  Pepsi Max (L3)  2023     12  AI_forecast  AI_P09F   \n",
            "3  Great Britain        7up (L3)  2024     12  AI_forecast  AI_P10F   \n",
            "4        Hungary     Lipton (L3)  2023      9  AI_forecast  AI_P03F   \n",
            "\n",
            "   FORECAST_YEAR         AMOUNT  \n",
            "0         2023.0  754356.237194  \n",
            "1         2023.0  560030.558029  \n",
            "2         2023.0   88501.980847  \n",
            "3         2023.0  363224.511516  \n",
            "4         2023.0  396176.120491  \n"
          ]
        }
      ]
    },
    {
      "cell_type": "markdown",
      "source": [
        "Al ver la primera fila, podemos hacer el ejercicio de traducirla al lenguaje y comprobar si hemos entendido la base de datos.\n",
        "\n",
        "**En este caso**: en enero de 2023, se realizó una prediccion con IA para obtener la cantidad de Lipton vendido en Portugal durante el mes de diciembre de 2023."
      ],
      "metadata": {
        "id": "p_ntnMHUAHRC"
      }
    },
    {
      "cell_type": "markdown",
      "source": [
        "Una vez entendida la base de datos, estamos preparados para poder trabajar con ella.\n",
        "\n",
        "**PREGUNTAS QUE RESPONDER.**\n",
        "\n",
        "1. Como se distribuyen las ventas realizadas en:\n",
        "    - Cada país.\n",
        "    - Cada mes y año.\n",
        "    - Cada marca.\n",
        "\n",
        "2. Cual es la tendencia y estacionalidad de:\n",
        "    - Todas las ventas del país con menos ventas.\n",
        "    - La marca con más ventas.\n",
        "\n",
        "3. Cuales son las predicciones hechas en España y como de\n",
        "buenas son."
      ],
      "metadata": {
        "id": "dib_3-G_BRW6"
      }
    },
    {
      "cell_type": "code",
      "source": [
        "# Vemos el tamaño de la base de datos.\n",
        "print(f\"El tamaño de la base de datos es: {df.shape}\")\n",
        "\n",
        "# Vemos la cantidad de observaciones diferenciadas en 'actual' o 'forecast'\n",
        "observations_count = df['SCENARIO'].value_counts()\n",
        "print(observations_count)"
      ],
      "metadata": {
        "colab": {
          "base_uri": "https://localhost:8080/"
        },
        "id": "61apGM_XFOFY",
        "outputId": "7de37ae6-315b-4a3d-d3e2-9608313a7db1"
      },
      "execution_count": 39,
      "outputs": [
        {
          "output_type": "stream",
          "name": "stdout",
          "text": [
            "El tamaño de la base de datos es: (18666, 8)\n",
            "SCENARIO\n",
            "AI_forecast    17766\n",
            "actual           900\n",
            "Name: count, dtype: int64\n"
          ]
        }
      ]
    },
    {
      "cell_type": "markdown",
      "source": [
        "La base de datos tiene 18666 observaciones de las cuales 900 son valores actuales y las demás son predicciones."
      ],
      "metadata": {
        "id": "PiAyJWsPGZpj"
      }
    },
    {
      "cell_type": "code",
      "source": [
        "# Mapeamos FORECAST para que en vez del codigo, me salga el mes en el que se hizo la predicción.\n",
        "month_mapping = {\n",
        "    \"AI_P02F\": \"enero\",\n",
        "    \"AI_P03F\": \"febrero\",\n",
        "    \"AI_P04F\": \"marzo\",\n",
        "    \"AI_P05F\": \"abril\",\n",
        "    \"AI_P06F\": \"mayo\",\n",
        "    \"AI_P07F\": \"junio\",\n",
        "    \"AI_P08F\": \"julio\",\n",
        "    \"AI_P09F\": \"agosto\",\n",
        "    \"AI_P10F\": \"septiembre\",\n",
        "    \"AI_P11F\": \"octubre\",\n",
        "    \"AI_P12F\": \"noviembre\",\n",
        "    \"AI_P13F\": \"diciembre\"\n",
        "}\n",
        "\n",
        "df['FORECAST'] = df['FORECAST'].replace(month_mapping)\n",
        "print(df.head())"
      ],
      "metadata": {
        "colab": {
          "base_uri": "https://localhost:8080/"
        },
        "id": "eSGt8APyI04t",
        "outputId": "a7ff3911-6a31-4813-8aa8-4d810e5ee2c6"
      },
      "execution_count": 38,
      "outputs": [
        {
          "output_type": "stream",
          "name": "stdout",
          "text": [
            "         COUNTRY        SUBBRAND  YEAR  MONTH     SCENARIO    FORECAST  \\\n",
            "0       Portugal     Lipton (L3)  2023     12  AI_forecast       enero   \n",
            "1  Great Britain     Lipton (L3)  2023     12  AI_forecast  septiembre   \n",
            "2          Spain  Pepsi Max (L3)  2023     12  AI_forecast      agosto   \n",
            "3  Great Britain        7up (L3)  2024     12  AI_forecast  septiembre   \n",
            "4        Hungary     Lipton (L3)  2023      9  AI_forecast     febrero   \n",
            "\n",
            "   FORECAST_YEAR         AMOUNT  \n",
            "0         2023.0  754356.237194  \n",
            "1         2023.0  560030.558029  \n",
            "2         2023.0   88501.980847  \n",
            "3         2023.0  363224.511516  \n",
            "4         2023.0  396176.120491  \n"
          ]
        }
      ]
    },
    {
      "cell_type": "code",
      "source": [
        "# Verificamos si hay NaNs.\n",
        "print(df.isnull().sum())"
      ],
      "metadata": {
        "colab": {
          "base_uri": "https://localhost:8080/"
        },
        "id": "0ApQiq0uA5Np",
        "outputId": "a7577a94-85b9-4d1f-8a95-5edee211d1aa"
      },
      "execution_count": 37,
      "outputs": [
        {
          "output_type": "stream",
          "name": "stdout",
          "text": [
            "COUNTRY            0\n",
            "SUBBRAND           0\n",
            "YEAR               0\n",
            "MONTH              0\n",
            "SCENARIO           0\n",
            "FORECAST         900\n",
            "FORECAST_YEAR    900\n",
            "AMOUNT             0\n",
            "dtype: int64\n"
          ]
        }
      ]
    },
    {
      "cell_type": "markdown",
      "source": [
        "Como podemos observar, hay 900 NaNs en 'FORECAST' y 'FORECAST_YEAR', que representan las 900 observaciones las cuales no son predicciones si no valores reales."
      ],
      "metadata": {
        "id": "DFEHXWQrE32O"
      }
    },
    {
      "cell_type": "code",
      "source": [
        "# Número de paises\n",
        "num_paises = df['COUNTRY'].nunique()\n",
        "print(f\"Número total de paises: {num_paises}\")\n",
        "\n",
        "paises = df['COUNTRY'].unique()\n",
        "print(f\"Los paises son: {paises}\")\n",
        "\n",
        "# Número sde productos.\n",
        "num_prod = df['SUBBRAND'].nunique()\n",
        "print(f\"Número total de productos: {num_prod}\")\n",
        "\n",
        "productos = df['SUBBRAND'].unique()\n",
        "print(f\"Los productos son: {productos}\")"
      ],
      "metadata": {
        "colab": {
          "base_uri": "https://localhost:8080/"
        },
        "id": "Ch_XIAFOHhUi",
        "outputId": "4e1e0b9c-7d2a-45aa-9861-19fe301a3a4b"
      },
      "execution_count": 35,
      "outputs": [
        {
          "output_type": "stream",
          "name": "stdout",
          "text": [
            "Número total de paises: 9\n",
            "Los paises son: ['Portugal' 'Great Britain' 'Spain' 'Hungary' 'Norway' 'Denmark'\n",
            " 'Netherlands' 'Italy' 'Czech']\n",
            "Número total de productos: 6\n",
            "Los productos son: ['Lipton (L3)' 'Pepsi Max (L3)' '7up (L3)' 'Pepsi Regular (L3)'\n",
            " 'Mountain Dew (L3)' '7up Free (L3)']\n"
          ]
        }
      ]
    },
    {
      "cell_type": "code",
      "source": [],
      "metadata": {
        "id": "CYEOQIBxJWJH"
      },
      "execution_count": 36,
      "outputs": []
    }
  ]
}